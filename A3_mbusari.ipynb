{
  "cells": [
    {
      "cell_type": "markdown",
      "metadata": {
        "id": "view-in-github",
        "colab_type": "text"
      },
      "source": [
        "<a href=\"https://colab.research.google.com/github/mariamb81/pattern-recognition-coursework/blob/main/A3_mbusari.ipynb\" target=\"_parent\"><img src=\"https://colab.research.google.com/assets/colab-badge.svg\" alt=\"Open In Colab\"/></a>"
      ]
    },
    {
      "cell_type": "code",
      "execution_count": null,
      "metadata": {
        "id": "a2zD7kT2lzCP"
      },
      "outputs": [],
      "source": [
        "import numpy as np\n",
        "import matplotlib.pyplot as plt"
      ]
    },
    {
      "cell_type": "code",
      "execution_count": null,
      "metadata": {
        "id": "ZUHimDmlD91Y"
      },
      "outputs": [],
      "source": [
        "def refresh():\n",
        "  plt.show()\n",
        "  plt.close()"
      ]
    },
    {
      "cell_type": "code",
      "execution_count": null,
      "metadata": {
        "id": "5qtNHrTTll3d"
      },
      "outputs": [],
      "source": [
        "# question 1.3\n",
        "from scipy.stats import norm\n",
        "x = np.linspace(-25, 25, 1000)\n",
        "def plot_gaussian_dist(mean, std_dev, label):\n",
        "  y = (1 / (std_dev * np.sqrt(2 * np.pi))) * np.exp(-(x - mean)**2 / (2 * std_dev**2))\n",
        "  plt.plot(x, y, label=label)\n",
        "\n",
        "\n",
        "plot_gaussian_dist(0, 1, label='p(x|CA): N(0, 1)')\n",
        "plot_gaussian_dist(5, 1, label='p(x|CB): N(0, 1)')\n",
        "plot_gaussian_dist(10, 2, label='p(x|CC): N(0, 1)')\n",
        "plt.legend()\n",
        "refresh()\n",
        "\n",
        "def pCkX(x, A, B, C):\n",
        "  return x/(A + B + C)\n",
        "\n",
        "pxCA = norm.pdf(x, 0, 1)\n",
        "pxCB = norm.pdf(x, 5, 1)\n",
        "pxCC = norm.pdf(x, 10, 2)\n",
        "\n",
        "pCAX = pCkX(pxCA, pxCA, pxCB, pxCC)\n",
        "pCBX = pCkX(pxCB, pxCA, pxCB, pxCC)\n",
        "pCCX = pCkX(pxCC, pxCA, pxCB, pxCC)\n",
        "\n",
        "plt.plot(pCAX, label='P(CA|X)')\n",
        "plt.plot(pCBX, label='P(CB|X)')\n",
        "plt.plot(pCCX, label='P(CC|X)')\n",
        "plt.legend()\n",
        "refresh()"
      ]
    },
    {
      "cell_type": "code",
      "execution_count": null,
      "metadata": {
        "id": "P_R39bWT40wF"
      },
      "outputs": [],
      "source": []
    },
    {
      "cell_type": "markdown",
      "metadata": {
        "id": "TVWs0WMEOIuH"
      },
      "source": [
        "## 3.1"
      ]
    },
    {
      "cell_type": "code",
      "execution_count": null,
      "metadata": {
        "id": "uoyAA9XYBpv4"
      },
      "outputs": [],
      "source": [
        "# 3.1\n",
        "bins = np.linspace(-20, 20, 100)\n",
        "\n",
        "# create 1D gaussian distributed N(mu, sigma)class samples\n",
        "# assuming notation is N(mu, sigma)\n",
        "\n",
        "# Class A\n",
        "mu, sigma, N = 0, 1, 1000\n",
        "CA = np.random.normal(mu, sigma, N)\n",
        "\n",
        "# Class B\n",
        "mu, sigma, N = 6, 1, 500\n",
        "CB = np.random.normal(mu, sigma, N)\n",
        "\n",
        "# Class C1\n",
        "mu, sigma, N = -4, 2, 1000\n",
        "Cc1 = np.random.normal(mu, sigma, N)\n",
        "\n",
        "# Class C2\n",
        "mu, sigma, N = 4, 1.5, 1000\n",
        "Cc2 = np.random.normal(mu, sigma, N)\n"
      ]
    },
    {
      "cell_type": "code",
      "execution_count": null,
      "metadata": {
        "id": "IY3lDxi5Dzms"
      },
      "outputs": [],
      "source": [
        "def print_mu_var(sample, name=\"\"):\n",
        "  print(f\"{name} mean {np.around(np.mean(sample), 3)}\")\n",
        "  print(f\"{name} variance {np.around(np.var(sample), 5)}\")\n",
        "  print(f\"{name} standard deviation {np.around(np.std(sample), 3)}\")"
      ]
    },
    {
      "cell_type": "code",
      "execution_count": null,
      "metadata": {
        "colab": {
          "background_save": true
        },
        "id": "ywpkceogDcTT",
        "outputId": "8f347d45-6eaf-4e08-b4ef-2751d4705130"
      },
      "outputs": [
        {
          "data": {
            "image/png": "[encoded data removed]",
            "text/plain": [
              "<Figure size 640x480 with 1 Axes>"
            ]
          },
          "metadata": {},
          "output_type": "display_data"
        }
      ],
      "source": [
        "# 3.2\n",
        "# plot the histogram of classC1 + classC2\n",
        "sumC1C2 = Cc1 + Cc2\n",
        "plt.hist(sumC1C2, bins=bins)\n",
        "plt.title(\"Gaussian Distribution of ClassC1 + ClassC2\")\n",
        "refresh()"
      ]
    },
    {
      "cell_type": "markdown",
      "metadata": {
        "id": "AKjSLmjyNJdK"
      },
      "source": [
        "## 3.2"
      ]
    },
    {
      "cell_type": "code",
      "execution_count": null,
      "metadata": {
        "colab": {
          "background_save": true
        },
        "id": "fXS2TluxE_EP",
        "outputId": "67258965-fc1e-44c6-fb92-8c3db8b622e7"
      },
      "outputs": [
        {
          "name": "stdout",
          "output_type": "stream",
          "text": [
            "Class 1 mean -4.008\n",
            "Class 1 variance 3.80199\n",
            "Class 1 standard deviation 1.95\n",
            "Class 2 mean 3.996\n",
            "Class 2 variance 2.1935\n",
            "Class 2 standard deviation 1.481\n",
            "Class 1 + Class 2 mean -0.012\n",
            "Class 1 + Class 2 variance 5.85008\n",
            "Class 1 + Class 2 standard deviation 2.419\n"
          ]
        }
      ],
      "source": [
        "3.2\n",
        "# print/write down the sample\n",
        "# mean and sample variance, and states what is the distribution of ClassC1 + ClassC2 (in terms\n",
        "# of true class mean and standard deviation of ClassC1 and ClassC2).\n",
        "print_mu_var(Cc1, name=\"Class 1\")\n",
        "print_mu_var(Cc2, name=\"Class 2\")\n",
        "print_mu_var(sumC1C2, name=\"Class 1 + Class 2\")\n",
        "# add mu and square root of variance"
      ]
    },
    {
      "cell_type": "markdown",
      "metadata": {
        "id": "m8DwEIOzNDmJ"
      },
      "source": [
        "## 3.3"
      ]
    },
    {
      "cell_type": "code",
      "execution_count": null,
      "metadata": {
        "id": "mkz2Tb1AFlyH"
      },
      "outputs": [],
      "source": [
        "# plot the histogram of np.append(ClassC1, ClassC2)\n",
        "appendC1C2 = np.append(Cc1, Cc2)\n",
        "plt.hist(appendC1C2, bins=bins)\n",
        "plt.title(\"Gaussian Distribution of np.append(ClassC1, ClassC2)\")\n",
        "refresh()"
      ]
    },
    {
      "cell_type": "code",
      "execution_count": null,
      "metadata": {
        "id": "MUb67WN3Gr8o"
      },
      "outputs": [],
      "source": [
        "print_mu_var(Cc1, name=\"Class 1\")\n",
        "print_mu_var(Cc2, name=\"Class 2\")\n",
        "print_mu_var(appendC1C2, name=\"np.append(Class 1, Class 2)\")"
      ]
    },
    {
      "cell_type": "markdown",
      "metadata": {
        "id": "seXdNwjFNAAJ"
      },
      "source": [
        "## 3.4"
      ]
    },
    {
      "cell_type": "code",
      "execution_count": null,
      "metadata": {
        "id": "Wn4CQcoHHxeA"
      },
      "outputs": [],
      "source": [
        "# 3.4\n",
        "# let ClassC = np.append(ClassC1, ClassC2)\n",
        "CC = np.append(Cc1, Cc2)\n",
        "# plot the histograms of Class A, B and C\n",
        "plt.hist(CA, alpha=0.5, bins=bins)\n",
        "plt.hist(CB, alpha=0.5, bins=bins)\n",
        "plt.hist(CC, alpha=0.5, bins=bins)\n",
        "plt.title(\"Gaussian Distributions of Class A, B and C\")\n",
        "\n",
        "plt.legend([\"Class A\", \"Class B\", \"Class C\"])\n",
        "refresh()"
      ]
    },
    {
      "cell_type": "markdown",
      "metadata": {
        "id": "cw32l4ZQM6DL"
      },
      "source": [
        "## 3.5"
      ]
    },
    {
      "cell_type": "code",
      "execution_count": null,
      "metadata": {
        "id": "fjr91tOGHYDk"
      },
      "outputs": [],
      "source": [
        "# 3.5\n",
        "# for each class create a set of labels\n",
        "y_CA = np.full((1000), 1)\n",
        "y_CB = np.full((500), 2)\n",
        "y_CC = np.full((2000), 3)\n",
        "\n",
        "# concatenate labels and class sets together\n",
        "labels = np.concatenate((y_CA, y_CB, y_CC))\n",
        "data = np.concatenate((CA, CB, CC))\n",
        "\n",
        "# generate a random permutation of indexing to perform shuffling for dataset and labels\n",
        "rand_idx = np.random.permutation(3500)\n",
        "y = labels[rand_idx]\n",
        "X = data[rand_idx]\n",
        "\n",
        "# split the dataset into 60:20:20 ratio for training, validation, testing\n",
        "def train_val_test_split(s):\n",
        "  l = len(s)\n",
        "  return s[0: int(l*0.6)], s[int(l*0.6): int(l*0.6 + l*0.2)], s[int(l*0.8): int(l*0.8 + l*0.2)]\n",
        "y_train, y_val, y_test = train_val_test_split(y)\n",
        "X_train, X_val, X_test = train_val_test_split(X)\n",
        "\n",
        "# print the first 10 elements of the test set and their labels\n",
        "print(\"first 10 elements of test set\")\n",
        "print(X_test[0:10])\n",
        "print(\"first 10 labels\")\n",
        "print(y_test[0:10])"
      ]
    },
    {
      "cell_type": "markdown",
      "metadata": {
        "id": "A5Wffw_qMbsR"
      },
      "source": [
        "## 3.6"
      ]
    },
    {
      "cell_type": "code",
      "execution_count": null,
      "metadata": {
        "id": "KiAMaWvkLXgt"
      },
      "outputs": [],
      "source": [
        "# 3.6\n",
        "# fit a gaussian mixture model to estimate means, std dev, weights of class C on the training set\n",
        "# two components (C1 & C2) of class C\n",
        "classC_train = X_train[np.where(y_train == 3)[0]]\n",
        "# print(classC_train)\n",
        "from sklearn.mixture import GaussianMixture as GMM\n",
        "gmm = GMM(n_components=2, random_state=8)\n",
        "gmm.fit(classC_train.reshape(-1, 1))\n",
        "\n",
        "gmm_means_c = gmm.means_.flatten()\n",
        "gmm_std_c = np.sqrt(gmm.covariances_).flatten()\n",
        "gmm_weights_c = gmm.weights_.flatten()\n",
        "\n",
        "# print the estimated parameters\n",
        "print(\"Estimated means:\", gmm_means_c)\n",
        "print(\"Estimated standard deviations:\", gmm_std_c)\n",
        "print(\"Weights:\", gmm_weights_c)"
      ]
    },
    {
      "cell_type": "markdown",
      "metadata": {
        "id": "qT-T70t6Moz8"
      },
      "source": [
        "## 3.7"
      ]
    },
    {
      "cell_type": "code",
      "execution_count": null,
      "metadata": {
        "id": "2iko4BxrSb5i"
      },
      "outputs": [],
      "source": [
        "# parameter estimates for mean and std from datapts for each class\n",
        "means = [np.mean(CA), np.mean(CB), np.mean(CC)]\n",
        "std_devs = [np.std(CA), np.std(CB), np.std(CC)]\n",
        "# print parameter estimates\n",
        "print(means)\n",
        "print(std_devs)\n",
        "print()\n",
        "\n",
        "# fit a gaussian mixture model to estimate means, std dev, weights of ALL classes A and B and C of the training set\n",
        "from sklearn.mixture import GaussianMixture as GMM\n",
        "gmm = GMM(n_components=2, random_state = 8).fit(X_train[np.where(y_train != 3)[0]].reshape(-1, 1))\n",
        "\n",
        "gmm_means = [np.flip(gmm.means_.flatten()), gmm_means_c]\n",
        "gmm_std = [np.flip(np.sqrt(gmm.covariances_).flatten()), gmm_std_c]\n",
        "gmm_weights = [np.flip(gmm.weights_.flatten()), gmm_weights_c]\n",
        "\n",
        "# print the estimated parameters\n",
        "print(\"Estimated means:\", gmm_means)\n",
        "print(\"Estimated standard deviations:\", gmm_std)\n",
        "print(\"Weights:\", gmm_weights)\n",
        "print(gmm_means[1])"
      ]
    },
    {
      "cell_type": "code",
      "execution_count": null,
      "metadata": {
        "id": "kmkD_BOkJ4f5"
      },
      "outputs": [],
      "source": [
        "from scipy.stats import norm\n",
        "from sklearn.metrics import accuracy_score\n",
        "\n",
        "# gaussian pdf\n",
        "def norm_pdf(x, mean, std):\n",
        "  return norm.pdf(x, mean, std)\n",
        "\n",
        "# implement a ML classifier\n",
        "def ML_classifier(x):\n",
        "  likelihoods, likelihoods_gmm = [0, 0, 0], [0, 0, 0]\n",
        "  for i in range(3):\n",
        "    if i < 2:\n",
        "      likelihoods[i] = norm_pdf(x, means[i], std_devs[i])\n",
        "      likelihoods_gmm[i] = gmm_weights[0][i] * norm_pdf(x, gmm_means[0][i], gmm_std[0][i])\n",
        "    if i == 2:\n",
        "      # class C1 and C2 gaussians\n",
        "      likelihoods_gmm[i] = gmm_weights_c[0] * norm_pdf(x, gmm_means_c[0], gmm_std_c[0]) + gmm_weights_c[1] * norm_pdf(x, gmm_means_c[1], gmm_std_c[1])\n",
        "  # return the class with the highest probability\n",
        "  return np.argmax(likelihoods_gmm) + 1\n",
        "\n",
        "# fit 3 pdfs on the training set\n",
        "# have the classifier take a list of points, and return the most likely class for each point in the list\n",
        "y_pred = [ML_classifier(x) for x in X_val]\n",
        "\n",
        "# calculate validation accuracy\n",
        "val_accuracy = accuracy_score(y_val, y_pred)\n",
        "\n",
        "print(f\"Validation Accuracy: {val_accuracy}\")"
      ]
    },
    {
      "cell_type": "markdown",
      "metadata": {
        "id": "_OMZ8jiDMrzu"
      },
      "source": [
        "## 3.8"
      ]
    },
    {
      "cell_type": "code",
      "execution_count": null,
      "metadata": {
        "id": "l1ZVVejwomkE"
      },
      "outputs": [],
      "source": [
        "# 3.8\n",
        "from sklearn.naive_bayes import GaussianNB\n",
        "# use a Gaussian Naive Bayes classifier and fit using the training set\n",
        "gnb = GaussianNB()\n",
        "gnb.fit(X_train.reshape(-1, 1), y_train)\n",
        "# calculate the validation accuracy\n",
        "y_pred = gnb.predict(X_val.reshape(-1, 1))\n",
        "\n",
        "val_accuracy = accuracy_score(y_val, y_pred)\n",
        "print(f\"Validation Accuracy (Gaussian Naive-Bayes): {val_accuracy}\")"
      ]
    },
    {
      "cell_type": "markdown",
      "metadata": {
        "id": "THfK7SkZMxf6"
      },
      "source": [
        "## 3.9"
      ]
    },
    {
      "cell_type": "code",
      "execution_count": null,
      "metadata": {
        "id": "z20HeZF05-k0"
      },
      "outputs": [],
      "source": [
        "from sklearn.metrics import confusion_matrix, ConfusionMatrixDisplay\n",
        "# create test set confusion matrices for the GNB model and the ML model\n",
        "test_predictions_ml = [ML_classifier(x) for x in X_test]\n",
        "test_predictions_gnb = gnb.predict(X_test.reshape(-1, 1))\n",
        "\n",
        "val_accuracy = accuracy_score(y_test, test_predictions_ml)\n",
        "print(f\"Test Accuracy (ML Classifier): {val_accuracy}\")\n",
        "val_accuracy = accuracy_score(y_test, test_predictions_gnb)\n",
        "print(f\"Test Accuracy (GNB Classifier): {val_accuracy}\")\n",
        "\n",
        "conf_matrix_ml = confusion_matrix(y_test, test_predictions_ml, normalize='true')\n",
        "conf_matrix_gnb = confusion_matrix(y_test, test_predictions_gnb, normalize='true')\n",
        "\n",
        "print(\"Confusion Matrix (Maximum Likelihood Classifier):\")\n",
        "print(conf_matrix_ml)\n",
        "\n",
        "print(\"Confusion Matrix (Gaussian Naive Bayes):\")\n",
        "print(conf_matrix_gnb)"
      ]
    },
    {
      "cell_type": "code",
      "execution_count": null,
      "metadata": {
        "colab": {
          "background_save": true
        },
        "id": "3Wcs9IWGftcO",
        "outputId": "63b4fb41-4259-4273-f17a-01fcf7ba1a0b"
      },
      "outputs": [
        {
          "data": {
            "image/png": "[encoded data removed]",
            "text/plain": [
              "<Figure size 640x480 with 2 Axes>"
            ]
          },
          "metadata": {},
          "output_type": "display_data"
        },
        {
          "data": {
            "image/png": "[encoded data removed]",
            "text/plain": [
              "<Figure size 640x480 with 2 Axes>"
            ]
          },
          "metadata": {},
          "output_type": "display_data"
        }
      ],
      "source": [
        "disp = ConfusionMatrixDisplay(confusion_matrix=conf_matrix_ml, display_labels=[\"Class A\", \"Class B\", \"Class C\"])\n",
        "disp.plot()\n",
        "plt.tight_layout()\n",
        "refresh()\n",
        "disp = ConfusionMatrixDisplay(confusion_matrix=conf_matrix_gnb, display_labels=[\"Class A\", \"Class B\", \"Class C\"])\n",
        "disp.plot()\n",
        "plt.tight_layout()\n",
        "refresh()"
      ]
    }
  ],
  "metadata": {
    "colab": {
      "provenance": [],
      "authorship_tag": "ABX9TyNJkaBme8VS97WtnhgzLOeL",
      "include_colab_link": true
    },
    "kernelspec": {
      "display_name": "Python 3",
      "name": "python3"
    },
    "language_info": {
      "name": "python"
    }
  },
  "nbformat": 4,
  "nbformat_minor": 0
}